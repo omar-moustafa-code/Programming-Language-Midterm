{
 "cells": [
  {
   "cell_type": "markdown",
   "id": "0189eb97-32ac-4cda-a522-cf4bccbaebcb",
   "metadata": {},
   "source": [
    "# Question 1:"
   ]
  },
  {
   "cell_type": "markdown",
   "id": "ab77bd0e-6c26-4c08-b8f8-642b7cfd20d1",
   "metadata": {},
   "source": [
    "Write a Python program (`question1.py`) that:\n",
    "• Reads a list of integers called sourceLst from the user.\n",
    "• You need to create a function replaceWithMax (lst) that takes sourceLst and returns\n",
    "back a new list.\n",
    "• In this newly computed and returned list, each element in sourceLst that was passed to\n",
    "the function is replaced with the maximum value of all elements that occur before it in\n",
    "the returned list.\n",
    "• After you return the list to the caller, print it.\n",
    "For example, if sourceLst is `[10, 20, 10, 90, 10, 20]`:\n",
    "- The first element `10` in the new list remains unchanged because there are no elements before\n",
    "it.\n",
    "- The second element `20` is replaced with `10` (maximum value before it).\n",
    "- The third `10` is replaced with `20` (maximum value before it).\n",
    "- The fourth `90` is replaced with `20` (maximum value before it).\n",
    "- The fifth `10` is replaced with `90` (maximum value before it).\n",
    "- The sixth `20` is replaced with `90` (maximum value before it).\n",
    "The resulting list that is returned from the function should be `[10, 10, 20, 20, 90, 90]`.\n",
    "Your program should handle any list of integers input by the user and output the modified list\n",
    "accordingly.\n",
    "Enter integers separated by spaces: 10 20 10 90 10 20\n",
    "Modified list: [10, 10, 20, 20, 90, 90]\n",
    "You should handle the case where the list is empty also"
   ]
  },
  {
   "cell_type": "code",
   "execution_count": 18,
   "id": "b6decd0d-8104-49d3-b88d-6248fd5c71de",
   "metadata": {},
   "outputs": [
    {
     "name": "stdout",
     "output_type": "stream",
     "text": [
      "Enter Input Number 1 of sourceLst:\n"
     ]
    },
    {
     "name": "stdin",
     "output_type": "stream",
     "text": [
      " 10\n"
     ]
    },
    {
     "name": "stdout",
     "output_type": "stream",
     "text": [
      "Enter Input Number 2 of sourceLst:\n"
     ]
    },
    {
     "name": "stdin",
     "output_type": "stream",
     "text": [
      " 20\n"
     ]
    },
    {
     "name": "stdout",
     "output_type": "stream",
     "text": [
      "Enter Input Number 3 of sourceLst:\n"
     ]
    },
    {
     "name": "stdin",
     "output_type": "stream",
     "text": [
      " 10\n"
     ]
    },
    {
     "name": "stdout",
     "output_type": "stream",
     "text": [
      "Enter Input Number 4 of sourceLst:\n"
     ]
    },
    {
     "name": "stdin",
     "output_type": "stream",
     "text": [
      " 90\n"
     ]
    },
    {
     "name": "stdout",
     "output_type": "stream",
     "text": [
      "Enter Input Number 5 of sourceLst:\n"
     ]
    },
    {
     "name": "stdin",
     "output_type": "stream",
     "text": [
      " 10\n"
     ]
    },
    {
     "name": "stdout",
     "output_type": "stream",
     "text": [
      "Enter Input Number 6 of sourceLst:\n"
     ]
    },
    {
     "name": "stdin",
     "output_type": "stream",
     "text": [
      " 20\n"
     ]
    },
    {
     "name": "stdout",
     "output_type": "stream",
     "text": [
      "['10', '10', '20', '20', '90', '90']\n"
     ]
    }
   ],
   "source": [
    "# Defining an empty list called 'sourceLst'\n",
    "sourceLst = []\n",
    "    \n",
    "# Starting a for-loop from 0 to 5 [because the list in the example has 6 elements]\n",
    "for i in range(6):\n",
    "    # Telling the User to Input An Integer into sourceLst \n",
    "    print(f'Enter Input Number {i + 1} of sourceLst:')\n",
    "    \n",
    "    # Defining 'user_input' to be equal to the integer that just inputted by the user\n",
    "    user_input = input()\n",
    "    \n",
    "    # Appending the integer that just inputted by the user into sourceLst \n",
    "    sourceLst.append(user_input)\n",
    "\n",
    "# Defining a function 'replaceWithMax' which takes a list as a parameter\n",
    "def replaceWithMax(lst):\n",
    "    # Defining an empty list called 'modified_list'\n",
    "    modified_list = []\n",
    "        \n",
    "    # Intializing an integer 'i' equal to 0 which will be used to iterate over sourceList\n",
    "    i = 0\n",
    "    \n",
    "    # Starting a while-loop that will end once i is no longer less than the length of lst\n",
    "    while(i < len(lst)):\n",
    "        \n",
    "        # If-Statment if i is equal to 0, the first element of lst will be appended to modified_list \n",
    "        if i == 0:\n",
    "            modified_list.append(lst[0])\n",
    "        # If i is not equal to 0, the maxiumum element of the all the elements before the one in lst[i] \n",
    "        # will be appended to modified_list\n",
    "        else:\n",
    "            modified_list.append(max(lst[:i]))\n",
    "        \n",
    "        # Incrementing i by 1\n",
    "        i = i + 1\n",
    "        \n",
    "    # Returning modified_list\n",
    "    return modified_list\n",
    "\n",
    "print(replaceWithMax(sourceLst))"
   ]
  },
  {
   "cell_type": "code",
   "execution_count": null,
   "id": "f38efb6a-9bdc-4835-9ca2-3baa6738ccc9",
   "metadata": {},
   "outputs": [],
   "source": []
  }
 ],
 "metadata": {
  "kernelspec": {
   "display_name": "Python 3 (ipykernel)",
   "language": "python",
   "name": "python3"
  },
  "language_info": {
   "codemirror_mode": {
    "name": "ipython",
    "version": 3
   },
   "file_extension": ".py",
   "mimetype": "text/x-python",
   "name": "python",
   "nbconvert_exporter": "python",
   "pygments_lexer": "ipython3",
   "version": "3.8.15"
  }
 },
 "nbformat": 4,
 "nbformat_minor": 5
}
