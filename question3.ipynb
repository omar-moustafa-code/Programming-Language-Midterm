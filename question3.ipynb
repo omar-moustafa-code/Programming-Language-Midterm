{
 "cells": [
  {
   "cell_type": "markdown",
   "id": "83ca5235-5df8-4fd3-bae7-fc68957e03ab",
   "metadata": {},
   "source": [
    "# Question 3:"
   ]
  },
  {
   "cell_type": "markdown",
   "id": "32993a34-da79-4f7a-97e8-4992b3e3e28b",
   "metadata": {},
   "source": [
    "You have a text file named `input.txt` that contains at least three paragraphs of text. Each\n",
    "paragraph is separated from another paragraph by at least two newlines (`\\n\\n`). Write a\n",
    "Python program (`question3.py`) that performs the following task:\n",
    "\n",
    "1. Read the contents of `input.txt`.\n",
    "2. Identify the second paragraph in the text file.\n",
    "3. Reverse the order of words in each line of the second paragraph only.\n",
    "4. Preserve all other paragraphs without modification.\n",
    "5. Write the modified text into a new file named `output.txt`.\n",
    "\n",
    "For example, if `input.txt` contains (the bolds are only to highlight the content of the file for\n",
    "you):\n",
    "\n",
    "This is the first paragraph.\n",
    "\n",
    "This is the second paragraph, which is longer and spans multiple lines. It still belongs to the second paragraph.\n",
    "\n",
    "This is the third paragraph.\n",
    "\n",
    "After processing, `output.txt` should contain:\n",
    "This is the first paragraph.\n",
    "lines. multiple spans and longer is which paragraph, second the is This\n",
    "paragraph. second the to belongs still It\n",
    "This is the third paragraph.\n",
    "Your program should handle any valid input in `input.txt` and produce the corresponding\n",
    "modified output in `output.txt`, focusing only on reversing the order of words in the second\n",
    "paragraph"
   ]
  },
  {
   "cell_type": "code",
   "execution_count": 30,
   "id": "67891201-917b-435f-bdad-9adf11af286a",
   "metadata": {},
   "outputs": [
    {
     "name": "stdout",
     "output_type": "stream",
     "text": [
      "This does not meet the minimum of 3 paragraphs requirement!\n"
     ]
    }
   ],
   "source": [
    "# Opening a file called 'input.txt.rtf'\n",
    "infile = open('input.txt.rtf', 'r')\n",
    "\n",
    "# Read starting from cursor up to the end of the file \n",
    "content = infile.read()\n",
    "    \n",
    "# Closing the file\n",
    "file.close()\n",
    "\n",
    "# Defining paragraphs which is the content being split into paragraphs based on the \\n\\n separations\n",
    "paragraphs = content.split('\\n\\n')\n",
    "\n",
    "# An if-statement which checks if there are at least 3 paragraphs  \n",
    "if len(paragraphs) >= 3:\n",
    "    \n",
    "    # The 2nd paragraph, which is the the paragraph that comes after the one in position 0, will be reversed\n",
    "    paragraphs[1] = paragraphs[1][::-1]\n",
    "    \n",
    "    # Joining the modified paragraphs back into a single string called 'modified_content'\n",
    "    modified_content = '\\n\\n'.join(paragraphs)\n",
    "    \n",
    "    # Opening a file called 'output.txt.rtf' which, if the file exists, will allow writing\n",
    "    infile = open('input.txt.rtf', 'w')\n",
    "\n",
    "    # Writing the content of the 'output.txt' file into 'modified_content'\n",
    "    infile.write(modified_content)\n",
    "\n",
    "    # Closing the 'output.txt' file \n",
    "    infile.close() \n",
    "    \n",
    "# Should the if-statement above not be satisfied, the message below will be printed indicating that \n",
    "# there are less than 3 paragraphs\n",
    "else:\n",
    "    print('This does not meet the minimum of 3 paragraphs requirement!')"
   ]
  },
  {
   "cell_type": "code",
   "execution_count": null,
   "id": "489be1e9-07cc-41bd-96d7-cc47103e3cbb",
   "metadata": {},
   "outputs": [],
   "source": []
  }
 ],
 "metadata": {
  "kernelspec": {
   "display_name": "Python 3 (ipykernel)",
   "language": "python",
   "name": "python3"
  },
  "language_info": {
   "codemirror_mode": {
    "name": "ipython",
    "version": 3
   },
   "file_extension": ".py",
   "mimetype": "text/x-python",
   "name": "python",
   "nbconvert_exporter": "python",
   "pygments_lexer": "ipython3",
   "version": "3.8.15"
  }
 },
 "nbformat": 4,
 "nbformat_minor": 5
}
