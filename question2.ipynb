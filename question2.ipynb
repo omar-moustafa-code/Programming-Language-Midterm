{
 "cells": [
  {
   "cell_type": "markdown",
   "id": "112b4175-bd5f-4a73-a8fb-00e7641a1fb4",
   "metadata": {},
   "source": [
    "# Question 2:"
   ]
  },
  {
   "cell_type": "markdown",
   "id": "f6a5ed04-dac6-4381-a225-0c598050bde6",
   "metadata": {},
   "source": [
    "A list of events are indicated as follows in a string:\n",
    "“22/7/2020 14:30 meeting with board // 24/7/2020 15:00 meeting with director // 25/7/2020 09:00 medical checkup // 25/7/2020 11:00 parents meeting”.\n",
    "\n",
    "The bold effect is only inserted to help you see the events and delimiters better.\n",
    "\n",
    "The events are separated by the // characters.\n",
    "\n",
    "Write a Python program (question2.py) that has a function called dailyMeeting(date) that\n",
    "takes a date string like what is used in the sample, and returns a string of all the events\n",
    "happening on the indicated date. For example, if you were to call dailyMeeting(“25/7/2020”)\n",
    "you will get back the string “09:00 medical checkup, 11:00 parents meeting”"
   ]
  },
  {
   "cell_type": "code",
   "execution_count": 5,
   "id": "e49a5db0-8079-44fc-b987-dacdfb2e4553",
   "metadata": {},
   "outputs": [
    {
     "name": "stdout",
     "output_type": "stream",
     "text": [
      "09:00 medical checkup, 11:00 parents meeting\n"
     ]
    }
   ],
   "source": [
    "# Defining the function 'dailyMeeting' which takes a date as its parameter\n",
    "def dailyMeeting(date):\n",
    "    \n",
    "    # Defining the string of events as 'events' \n",
    "    events = \"22/7/2020 14:30 <meeting with board> // 24/7/2020 15:00 <meeting with director> // 25/7/2020 09:00 <medical checkup> // 25/7/2020 11:00 <parents meeting>\"\n",
    "\n",
    "    # Defining events_sub_string which is a sub-string of events where they are broken down after every '//' using the split function \n",
    "    events_sub_string = events.split(\" // \")\n",
    "    \n",
    "    # Defining an empty list called 'my_list'\n",
    "    my_list = []\n",
    "\n",
    "    # Starting a for loop which will go through events_sub_string \n",
    "    for i in events_sub_string:\n",
    "        \n",
    "        # Breaking down each one of the sub-strings into 3 small parts, which are the date, time, and description \n",
    "        # based on the spaces where this a maxsplit = 2\n",
    "        event_date, event_time, event_description = i.split(' ', 2)\n",
    "        \n",
    "        # Replacing the '<>' in the event_description with an empty string\n",
    "        event_description = event_description.replace('<', '').replace('>', '')\n",
    "        \n",
    "        # If the event_date is equal to the date that is put in the parameter of the function when calling it, the event_time and event_description of that date will be appended into my_list\n",
    "        if event_date == date:\n",
    "            my_list.append(f'{event_time} {event_description}')\n",
    "    \n",
    "    # Joining my_list into one string with just comma separator\n",
    "    output = ', '.join(my_list)\n",
    "    \n",
    "    # Returning the final string\n",
    "    return output\n",
    "\n",
    "print(dailyMeeting('25/7/2020'))"
   ]
  },
  {
   "cell_type": "code",
   "execution_count": null,
   "id": "604b5baa-f9f1-4830-a8bb-47c48532b5fc",
   "metadata": {},
   "outputs": [],
   "source": []
  }
 ],
 "metadata": {
  "kernelspec": {
   "display_name": "Python 3 (ipykernel)",
   "language": "python",
   "name": "python3"
  },
  "language_info": {
   "codemirror_mode": {
    "name": "ipython",
    "version": 3
   },
   "file_extension": ".py",
   "mimetype": "text/x-python",
   "name": "python",
   "nbconvert_exporter": "python",
   "pygments_lexer": "ipython3",
   "version": "3.8.15"
  }
 },
 "nbformat": 4,
 "nbformat_minor": 5
}
